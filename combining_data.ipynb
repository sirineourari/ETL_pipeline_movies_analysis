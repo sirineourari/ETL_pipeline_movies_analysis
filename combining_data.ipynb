{
  "nbformat": 4,
  "nbformat_minor": 0,
  "metadata": {
    "colab": {
      "name": "combining_data.ipynb",
      "provenance": [],
      "collapsed_sections": []
    },
    "kernelspec": {
      "name": "python3",
      "display_name": "Python 3"
    },
    "language_info": {
      "name": "python"
    }
  },
  "cells": [
    {
      "cell_type": "code",
      "metadata": {
        "id": "5X2RmwdP_o5j"
      },
      "source": [
        "import pandas as pd\n",
        "import os"
      ],
      "execution_count": 14,
      "outputs": []
    },
    {
      "cell_type": "code",
      "metadata": {
        "colab": {
          "base_uri": "https://localhost:8080/"
        },
        "id": "dM2gtGQiA49y",
        "outputId": "f955c500-2705-480c-9be6-36ae753a459a"
      },
      "source": [
        "from google.colab import drive \n",
        "drive.mount('/content/gdrive')"
      ],
      "execution_count": null,
      "outputs": [
        {
          "output_type": "stream",
          "text": [
            "Mounted at /content/gdrive\n"
          ],
          "name": "stdout"
        }
      ]
    },
    {
      "cell_type": "code",
      "metadata": {
        "id": "shbGRBCU9Ruq"
      },
      "source": [
        "df=pd.read_csv('gdrive/My Drive/data/2015.csv', encoding= 'unicode_escape')"
      ],
      "execution_count": 11,
      "outputs": []
    },
    {
      "cell_type": "code",
      "metadata": {
        "id": "duoCN1lG_wKY",
        "colab": {
          "base_uri": "https://localhost:8080/",
          "height": 203
        },
        "outputId": "3c39760c-41fc-4814-9372-ea3bc2cb076d"
      },
      "source": [
        "df.head()"
      ],
      "execution_count": 12,
      "outputs": [
        {
          "output_type": "execute_result",
          "data": {
            "text/html": [
              "<div>\n",
              "<style scoped>\n",
              "    .dataframe tbody tr th:only-of-type {\n",
              "        vertical-align: middle;\n",
              "    }\n",
              "\n",
              "    .dataframe tbody tr th {\n",
              "        vertical-align: top;\n",
              "    }\n",
              "\n",
              "    .dataframe thead th {\n",
              "        text-align: right;\n",
              "    }\n",
              "</style>\n",
              "<table border=\"1\" class=\"dataframe\">\n",
              "  <thead>\n",
              "    <tr style=\"text-align: right;\">\n",
              "      <th></th>\n",
              "      <th>Rank</th>\n",
              "      <th>Release Group</th>\n",
              "      <th>Worldwide</th>\n",
              "      <th>Domestic</th>\n",
              "      <th>%</th>\n",
              "      <th>Foreign</th>\n",
              "      <th>%.1</th>\n",
              "    </tr>\n",
              "  </thead>\n",
              "  <tbody>\n",
              "    <tr>\n",
              "      <th>0</th>\n",
              "      <td>1</td>\n",
              "      <td>Star Wars: Episode VII - The Force Awakens</td>\n",
              "      <td>$2068223624</td>\n",
              "      <td>$936662225</td>\n",
              "      <td>45.3%</td>\n",
              "      <td>$1131561399</td>\n",
              "      <td>54.7%</td>\n",
              "    </tr>\n",
              "    <tr>\n",
              "      <th>1</th>\n",
              "      <td>2</td>\n",
              "      <td>Jurassic World</td>\n",
              "      <td>$1670400637</td>\n",
              "      <td>$652270625</td>\n",
              "      <td>39%</td>\n",
              "      <td>$1018130012</td>\n",
              "      <td>61%</td>\n",
              "    </tr>\n",
              "    <tr>\n",
              "      <th>2</th>\n",
              "      <td>3</td>\n",
              "      <td>Furious 7</td>\n",
              "      <td>$1515047671</td>\n",
              "      <td>$353007020</td>\n",
              "      <td>23.3%</td>\n",
              "      <td>$1162040651</td>\n",
              "      <td>76.7%</td>\n",
              "    </tr>\n",
              "    <tr>\n",
              "      <th>3</th>\n",
              "      <td>4</td>\n",
              "      <td>Avengers: Age of Ultron</td>\n",
              "      <td>$1402805868</td>\n",
              "      <td>$459005868</td>\n",
              "      <td>32.7%</td>\n",
              "      <td>$943800000</td>\n",
              "      <td>67.3%</td>\n",
              "    </tr>\n",
              "    <tr>\n",
              "      <th>4</th>\n",
              "      <td>5</td>\n",
              "      <td>Minions</td>\n",
              "      <td>$1159398397</td>\n",
              "      <td>$336045770</td>\n",
              "      <td>29%</td>\n",
              "      <td>$823352627</td>\n",
              "      <td>71%</td>\n",
              "    </tr>\n",
              "  </tbody>\n",
              "</table>\n",
              "</div>"
            ],
            "text/plain": [
              "   Rank                               Release Group  ...      Foreign    %.1\n",
              "0     1  Star Wars: Episode VII - The Force Awakens  ...  $1131561399  54.7%\n",
              "1     2                              Jurassic World  ...  $1018130012    61%\n",
              "2     3                                   Furious 7  ...  $1162040651  76.7%\n",
              "3     4                     Avengers: Age of Ultron  ...   $943800000  67.3%\n",
              "4     5                                     Minions  ...   $823352627    71%\n",
              "\n",
              "[5 rows x 7 columns]"
            ]
          },
          "metadata": {
            "tags": []
          },
          "execution_count": 12
        }
      ]
    },
    {
      "cell_type": "code",
      "metadata": {
        "colab": {
          "base_uri": "https://localhost:8080/",
          "height": 203
        },
        "id": "Qeqf-gMTBv5q",
        "outputId": "7a51234b-d243-40fe-9bf4-d37a6cf21bb9"
      },
      "source": [
        "df.tail()"
      ],
      "execution_count": 13,
      "outputs": [
        {
          "output_type": "execute_result",
          "data": {
            "text/html": [
              "<div>\n",
              "<style scoped>\n",
              "    .dataframe tbody tr th:only-of-type {\n",
              "        vertical-align: middle;\n",
              "    }\n",
              "\n",
              "    .dataframe tbody tr th {\n",
              "        vertical-align: top;\n",
              "    }\n",
              "\n",
              "    .dataframe thead th {\n",
              "        text-align: right;\n",
              "    }\n",
              "</style>\n",
              "<table border=\"1\" class=\"dataframe\">\n",
              "  <thead>\n",
              "    <tr style=\"text-align: right;\">\n",
              "      <th></th>\n",
              "      <th>Rank</th>\n",
              "      <th>Release Group</th>\n",
              "      <th>Worldwide</th>\n",
              "      <th>Domestic</th>\n",
              "      <th>%</th>\n",
              "      <th>Foreign</th>\n",
              "      <th>%.1</th>\n",
              "    </tr>\n",
              "  </thead>\n",
              "  <tbody>\n",
              "    <tr>\n",
              "      <th>195</th>\n",
              "      <td>196</td>\n",
              "      <td>Huevos: Little Rooster's Egg-cellent Adventure</td>\n",
              "      <td>$25892561</td>\n",
              "      <td>$9080818</td>\n",
              "      <td>35.1%</td>\n",
              "      <td>$16811743</td>\n",
              "      <td>64.9%</td>\n",
              "    </tr>\n",
              "    <tr>\n",
              "      <th>196</th>\n",
              "      <td>197</td>\n",
              "      <td>Dügün Dernek 2: Sünnet</td>\n",
              "      <td>$25836668</td>\n",
              "      <td>-</td>\n",
              "      <td>-</td>\n",
              "      <td>$25836668</td>\n",
              "      <td>100%</td>\n",
              "    </tr>\n",
              "    <tr>\n",
              "      <th>197</th>\n",
              "      <td>198</td>\n",
              "      <td>Look Who's Back</td>\n",
              "      <td>$25513752</td>\n",
              "      <td>-</td>\n",
              "      <td>-</td>\n",
              "      <td>$25513752</td>\n",
              "      <td>100%</td>\n",
              "    </tr>\n",
              "    <tr>\n",
              "      <th>198</th>\n",
              "      <td>199</td>\n",
              "      <td>Serial Teachers 2</td>\n",
              "      <td>$25364150</td>\n",
              "      <td>-</td>\n",
              "      <td>-</td>\n",
              "      <td>$25364150</td>\n",
              "      <td>100%</td>\n",
              "    </tr>\n",
              "    <tr>\n",
              "      <th>199</th>\n",
              "      <td>200</td>\n",
              "      <td>Wild City</td>\n",
              "      <td>$24817852</td>\n",
              "      <td>$34866</td>\n",
              "      <td>0.1%</td>\n",
              "      <td>$24782986</td>\n",
              "      <td>99.9%</td>\n",
              "    </tr>\n",
              "  </tbody>\n",
              "</table>\n",
              "</div>"
            ],
            "text/plain": [
              "     Rank                                   Release Group  ...    Foreign    %.1\n",
              "195   196  Huevos: Little Rooster's Egg-cellent Adventure  ...  $16811743  64.9%\n",
              "196   197                          Dügün Dernek 2: Sünnet  ...  $25836668   100%\n",
              "197   198                                 Look Who's Back  ...  $25513752   100%\n",
              "198   199                               Serial Teachers 2  ...  $25364150   100%\n",
              "199   200                                       Wild City  ...  $24782986  99.9%\n",
              "\n",
              "[5 rows x 7 columns]"
            ]
          },
          "metadata": {
            "tags": []
          },
          "execution_count": 13
        }
      ]
    },
    {
      "cell_type": "code",
      "metadata": {
        "id": "GVPKo1SUB2z6"
      },
      "source": [
        "cwd=os.getcwd()"
      ],
      "execution_count": 15,
      "outputs": []
    },
    {
      "cell_type": "code",
      "metadata": {
        "id": "BnikcoqUC10A"
      },
      "source": [
        "BASE_DIR= os.path.dirname(cwd)"
      ],
      "execution_count": 16,
      "outputs": []
    },
    {
      "cell_type": "code",
      "metadata": {
        "colab": {
          "base_uri": "https://localhost:8080/"
        },
        "id": "yEHFFVORDBba",
        "outputId": "a6e15265-8710-4e29-b80b-85f82cd8a50e"
      },
      "source": [
        "data = []\n",
        "\n",
        "for filename in os.listdir('gdrive/My Drive/data'):\n",
        "    if filename.endswith(\"csv\"): \n",
        "        # Your code comes here such as \n",
        "        print(filename)\n",
        "        data.append(filename)\n",
        "print(data)\n",
        "    "
      ],
      "execution_count": 23,
      "outputs": [
        {
          "output_type": "stream",
          "text": [
            "2015.csv\n",
            "2016.csv\n",
            "2017.csv\n",
            "2018.csv\n",
            "2019.csv\n",
            "2020.csv\n",
            "['2015.csv', '2016.csv', '2017.csv', '2018.csv', '2019.csv', '2020.csv']\n"
          ],
          "name": "stdout"
        }
      ]
    },
    {
      "cell_type": "code",
      "metadata": {
        "id": "B79K2pstDe_6"
      },
      "source": [
        "df=pd.read_csv('gdrive/My Drive/data/2017.csv', encoding= 'unicode_escape')"
      ],
      "execution_count": 25,
      "outputs": []
    },
    {
      "cell_type": "code",
      "metadata": {
        "colab": {
          "base_uri": "https://localhost:8080/",
          "height": 203
        },
        "id": "eUY5eOqRNLWN",
        "outputId": "45e97cca-b939-425d-8b89-7c3e8d93daed"
      },
      "source": [
        "df.head()"
      ],
      "execution_count": 26,
      "outputs": [
        {
          "output_type": "execute_result",
          "data": {
            "text/html": [
              "<div>\n",
              "<style scoped>\n",
              "    .dataframe tbody tr th:only-of-type {\n",
              "        vertical-align: middle;\n",
              "    }\n",
              "\n",
              "    .dataframe tbody tr th {\n",
              "        vertical-align: top;\n",
              "    }\n",
              "\n",
              "    .dataframe thead th {\n",
              "        text-align: right;\n",
              "    }\n",
              "</style>\n",
              "<table border=\"1\" class=\"dataframe\">\n",
              "  <thead>\n",
              "    <tr style=\"text-align: right;\">\n",
              "      <th></th>\n",
              "      <th>Rank</th>\n",
              "      <th>Release Group</th>\n",
              "      <th>Worldwide</th>\n",
              "      <th>Domestic</th>\n",
              "      <th>%</th>\n",
              "      <th>Foreign</th>\n",
              "      <th>%.1</th>\n",
              "    </tr>\n",
              "  </thead>\n",
              "  <tbody>\n",
              "    <tr>\n",
              "      <th>0</th>\n",
              "      <td>1</td>\n",
              "      <td>Star Wars: Episode VIII - The Last Jedi</td>\n",
              "      <td>$1332539889</td>\n",
              "      <td>$620181382</td>\n",
              "      <td>46.5%</td>\n",
              "      <td>$712358507</td>\n",
              "      <td>53.5%</td>\n",
              "    </tr>\n",
              "    <tr>\n",
              "      <th>1</th>\n",
              "      <td>2</td>\n",
              "      <td>Beauty and the Beast</td>\n",
              "      <td>$1263521126</td>\n",
              "      <td>$504014165</td>\n",
              "      <td>39.9%</td>\n",
              "      <td>$759506961</td>\n",
              "      <td>60.1%</td>\n",
              "    </tr>\n",
              "    <tr>\n",
              "      <th>2</th>\n",
              "      <td>3</td>\n",
              "      <td>The Fate of the Furious</td>\n",
              "      <td>$1236005118</td>\n",
              "      <td>$226008385</td>\n",
              "      <td>18.3%</td>\n",
              "      <td>$1009996733</td>\n",
              "      <td>81.7%</td>\n",
              "    </tr>\n",
              "    <tr>\n",
              "      <th>3</th>\n",
              "      <td>4</td>\n",
              "      <td>Despicable Me 3</td>\n",
              "      <td>$1034799409</td>\n",
              "      <td>$264624300</td>\n",
              "      <td>25.6%</td>\n",
              "      <td>$770175109</td>\n",
              "      <td>74.4%</td>\n",
              "    </tr>\n",
              "    <tr>\n",
              "      <th>4</th>\n",
              "      <td>5</td>\n",
              "      <td>Jumanji: Welcome to the Jungle</td>\n",
              "      <td>$962077546</td>\n",
              "      <td>$404515480</td>\n",
              "      <td>42%</td>\n",
              "      <td>$557562066</td>\n",
              "      <td>58%</td>\n",
              "    </tr>\n",
              "  </tbody>\n",
              "</table>\n",
              "</div>"
            ],
            "text/plain": [
              "   Rank                            Release Group  ...      Foreign    %.1\n",
              "0     1  Star Wars: Episode VIII - The Last Jedi  ...   $712358507  53.5%\n",
              "1     2                     Beauty and the Beast  ...   $759506961  60.1%\n",
              "2     3                  The Fate of the Furious  ...  $1009996733  81.7%\n",
              "3     4                          Despicable Me 3  ...   $770175109  74.4%\n",
              "4     5           Jumanji: Welcome to the Jungle  ...   $557562066    58%\n",
              "\n",
              "[5 rows x 7 columns]"
            ]
          },
          "metadata": {
            "tags": []
          },
          "execution_count": 26
        }
      ]
    },
    {
      "cell_type": "code",
      "metadata": {
        "id": "Eo48d-jFNPc4"
      },
      "source": [
        "df['Year']=2017"
      ],
      "execution_count": 29,
      "outputs": []
    },
    {
      "cell_type": "code",
      "metadata": {
        "colab": {
          "base_uri": "https://localhost:8080/",
          "height": 203
        },
        "id": "fkQagKg0NbHU",
        "outputId": "f5c242b3-c748-4737-9185-8217ee09740a"
      },
      "source": [
        "df.head()"
      ],
      "execution_count": 30,
      "outputs": [
        {
          "output_type": "execute_result",
          "data": {
            "text/html": [
              "<div>\n",
              "<style scoped>\n",
              "    .dataframe tbody tr th:only-of-type {\n",
              "        vertical-align: middle;\n",
              "    }\n",
              "\n",
              "    .dataframe tbody tr th {\n",
              "        vertical-align: top;\n",
              "    }\n",
              "\n",
              "    .dataframe thead th {\n",
              "        text-align: right;\n",
              "    }\n",
              "</style>\n",
              "<table border=\"1\" class=\"dataframe\">\n",
              "  <thead>\n",
              "    <tr style=\"text-align: right;\">\n",
              "      <th></th>\n",
              "      <th>Rank</th>\n",
              "      <th>Release Group</th>\n",
              "      <th>Worldwide</th>\n",
              "      <th>Domestic</th>\n",
              "      <th>%</th>\n",
              "      <th>Foreign</th>\n",
              "      <th>%.1</th>\n",
              "      <th>Year</th>\n",
              "    </tr>\n",
              "  </thead>\n",
              "  <tbody>\n",
              "    <tr>\n",
              "      <th>0</th>\n",
              "      <td>1</td>\n",
              "      <td>Star Wars: Episode VIII - The Last Jedi</td>\n",
              "      <td>$1332539889</td>\n",
              "      <td>$620181382</td>\n",
              "      <td>46.5%</td>\n",
              "      <td>$712358507</td>\n",
              "      <td>53.5%</td>\n",
              "      <td>2017</td>\n",
              "    </tr>\n",
              "    <tr>\n",
              "      <th>1</th>\n",
              "      <td>2</td>\n",
              "      <td>Beauty and the Beast</td>\n",
              "      <td>$1263521126</td>\n",
              "      <td>$504014165</td>\n",
              "      <td>39.9%</td>\n",
              "      <td>$759506961</td>\n",
              "      <td>60.1%</td>\n",
              "      <td>2017</td>\n",
              "    </tr>\n",
              "    <tr>\n",
              "      <th>2</th>\n",
              "      <td>3</td>\n",
              "      <td>The Fate of the Furious</td>\n",
              "      <td>$1236005118</td>\n",
              "      <td>$226008385</td>\n",
              "      <td>18.3%</td>\n",
              "      <td>$1009996733</td>\n",
              "      <td>81.7%</td>\n",
              "      <td>2017</td>\n",
              "    </tr>\n",
              "    <tr>\n",
              "      <th>3</th>\n",
              "      <td>4</td>\n",
              "      <td>Despicable Me 3</td>\n",
              "      <td>$1034799409</td>\n",
              "      <td>$264624300</td>\n",
              "      <td>25.6%</td>\n",
              "      <td>$770175109</td>\n",
              "      <td>74.4%</td>\n",
              "      <td>2017</td>\n",
              "    </tr>\n",
              "    <tr>\n",
              "      <th>4</th>\n",
              "      <td>5</td>\n",
              "      <td>Jumanji: Welcome to the Jungle</td>\n",
              "      <td>$962077546</td>\n",
              "      <td>$404515480</td>\n",
              "      <td>42%</td>\n",
              "      <td>$557562066</td>\n",
              "      <td>58%</td>\n",
              "      <td>2017</td>\n",
              "    </tr>\n",
              "  </tbody>\n",
              "</table>\n",
              "</div>"
            ],
            "text/plain": [
              "   Rank                            Release Group  ...    %.1  Year\n",
              "0     1  Star Wars: Episode VIII - The Last Jedi  ...  53.5%  2017\n",
              "1     2                     Beauty and the Beast  ...  60.1%  2017\n",
              "2     3                  The Fate of the Furious  ...  81.7%  2017\n",
              "3     4                          Despicable Me 3  ...  74.4%  2017\n",
              "4     5           Jumanji: Welcome to the Jungle  ...    58%  2017\n",
              "\n",
              "[5 rows x 8 columns]"
            ]
          },
          "metadata": {
            "tags": []
          },
          "execution_count": 30
        }
      ]
    },
    {
      "cell_type": "code",
      "metadata": {
        "colab": {
          "base_uri": "https://localhost:8080/"
        },
        "id": "kWW6EjkgNrOD",
        "outputId": "baf1d393-a85e-4f1e-a995-2315a14e2868"
      },
      "source": [
        "complete_dataframe=pd.DataFrame()\n",
        "my_dataframes=[]\n",
        "for filename in os.listdir('gdrive/My Drive/data'):\n",
        "    if filename.endswith(\"csv\"): \n",
        "      path ='gdrive/My Drive/data/'+filename\n",
        "      df=pd.read_csv(path, encoding= 'unicode_escape')\n",
        "\n",
        "      df['Filename'] = filename\n",
        "      year=filename.replace(\".csv\",\"\")\n",
        "      df['Year']= year\n",
        "      print(df.head(2))\n",
        "      my_dataframes.append(df)\n"
      ],
      "execution_count": 38,
      "outputs": [
        {
          "output_type": "stream",
          "text": [
            "   Rank                               Release Group  ...  Filename  Year\n",
            "0     1  Star Wars: Episode VII - The Force Awakens  ...  2015.csv  2015\n",
            "1     2                              Jurassic World  ...  2015.csv  2015\n",
            "\n",
            "[2 rows x 9 columns]\n",
            "   Rank                 Release Group    Worldwide  ...    %.1  Filename  Year\n",
            "0     1    Captain America: Civil War  $1153296293  ...  64.6%  2016.csv  2016\n",
            "1     2  Rogue One: A Star Wars Story  $1056057273  ...  49.6%  2016.csv  2016\n",
            "\n",
            "[2 rows x 9 columns]\n",
            "   Rank                            Release Group  ...  Filename  Year\n",
            "0     1  Star Wars: Episode VIII - The Last Jedi  ...  2017.csv  2017\n",
            "1     2                     Beauty and the Beast  ...  2017.csv  2017\n",
            "\n",
            "[2 rows x 9 columns]\n",
            "   Rank           Release Group    Worldwide  ...    %.1  Filename  Year\n",
            "0     1  Avengers: Infinity War  $2048359754  ...  66.9%  2018.csv  2018\n",
            "1     2           Black Panther  $1346913161  ...    48%  2018.csv  2018\n",
            "\n",
            "[2 rows x 9 columns]\n",
            "   Rank      Release Group    Worldwide  ...    %.1  Filename  Year\n",
            "0     1  Avengers: Endgame  $2797501328  ...  69.3%  2019.csv  2019\n",
            "1     2      The Lion King  $1656943394  ...  67.2%  2019.csv  2019\n",
            "\n",
            "[2 rows x 9 columns]\n",
            "   Rank              Release Group   Worldwide  ...    %.1  Filename  Year\n",
            "0     1          The Eight Hundred  $461406887  ...  99.9%  2020.csv  2020\n",
            "1     2  Demon Slayer: Mugen Train  $455495361  ...  89.5%  2020.csv  2020\n",
            "\n",
            "[2 rows x 9 columns]\n"
          ],
          "name": "stdout"
        }
      ]
    },
    {
      "cell_type": "code",
      "metadata": {
        "colab": {
          "base_uri": "https://localhost:8080/"
        },
        "id": "yPqHU1j8PEkw",
        "outputId": "f86f5ded-924e-4516-f69e-4ea183455028"
      },
      "source": [
        "my_dataframes"
      ],
      "execution_count": 39,
      "outputs": [
        {
          "output_type": "execute_result",
          "data": {
            "text/plain": [
              "[     Rank                                   Release Group  ...  Filename  Year\n",
              " 0       1      Star Wars: Episode VII - The Force Awakens  ...  2015.csv  2015\n",
              " 1       2                                  Jurassic World  ...  2015.csv  2015\n",
              " 2       3                                       Furious 7  ...  2015.csv  2015\n",
              " 3       4                         Avengers: Age of Ultron  ...  2015.csv  2015\n",
              " 4       5                                         Minions  ...  2015.csv  2015\n",
              " ..    ...                                             ...  ...       ...   ...\n",
              " 195   196  Huevos: Little Rooster's Egg-cellent Adventure  ...  2015.csv  2015\n",
              " 196   197                          Dügün Dernek 2: Sünnet  ...  2015.csv  2015\n",
              " 197   198                                 Look Who's Back  ...  2015.csv  2015\n",
              " 198   199                               Serial Teachers 2  ...  2015.csv  2015\n",
              " 199   200                                       Wild City  ...  2015.csv  2015\n",
              " \n",
              " [200 rows x 9 columns],\n",
              "      Rank                              Release Group  ...  Filename  Year\n",
              " 0       1                 Captain America: Civil War  ...  2016.csv  2016\n",
              " 1       2               Rogue One: A Star Wars Story  ...  2016.csv  2016\n",
              " 2       3                               Finding Dory  ...  2016.csv  2016\n",
              " 3       4                                   Zootopia  ...  2016.csv  2016\n",
              " 4       5                            The Jungle Book  ...  2016.csv  2016\n",
              " ..    ...                                        ...  ...       ...   ...\n",
              " 195   196  Middle School: The Worst Years of My Life  ...  2016.csv  2016\n",
              " 196   197                                   Triple 9  ...  2016.csv  2016\n",
              " 197   198                                   Rock Dog  ...  2016.csv  2016\n",
              " 198   199                                 The Choice  ...  2016.csv  2016\n",
              " 199   200                             Penny Pincher!  ...  2016.csv  2016\n",
              " \n",
              " [200 rows x 9 columns],\n",
              "      Rank                            Release Group  ...  Filename  Year\n",
              " 0       1  Star Wars: Episode VIII - The Last Jedi  ...  2017.csv  2017\n",
              " 1       2                     Beauty and the Beast  ...  2017.csv  2017\n",
              " 2       3                  The Fate of the Furious  ...  2017.csv  2017\n",
              " 3       4                          Despicable Me 3  ...  2017.csv  2017\n",
              " 4       5           Jumanji: Welcome to the Jungle  ...  2017.csv  2017\n",
              " ..    ...                                      ...  ...       ...   ...\n",
              " 195   196                    Extraordinary Mission  ...  2017.csv  2017\n",
              " 196   197                         The Glass Castle  ...  2017.csv  2017\n",
              " 197   198                    Leap! 2017 Re-release  ...  2017.csv  2017\n",
              " 198   199                      Épouse-moi mon pote  ...  2017.csv  2017\n",
              " 199   200                               The Prison  ...  2017.csv  2017\n",
              " \n",
              " [200 rows x 9 columns],\n",
              "      Rank                   Release Group    Worldwide  ...    %.1  Filename  Year\n",
              " 0       1          Avengers: Infinity War  $2048359754  ...  66.9%  2018.csv  2018\n",
              " 1       2                   Black Panther  $1346913161  ...    48%  2018.csv  2018\n",
              " 2       3  Jurassic World: Fallen Kingdom  $1308467944  ...  68.1%  2018.csv  2018\n",
              " 3       4                   Incredibles 2  $1242805359  ...    51%  2018.csv  2018\n",
              " 4       5                         Aquaman  $1148461807  ...  70.8%  2018.csv  2018\n",
              " ..    ...                             ...          ...  ...    ...       ...   ...\n",
              " 195   196                       Padmaavat    $22991060  ...  48.5%  2018.csv  2018\n",
              " 196   197       Won't You Be My Neighbor?    $22844741  ...  <0.1%  2018.csv  2018\n",
              " 197   198                  Europe Raiders    $22435156  ...   100%  2018.csv  2018\n",
              " 198   199          Mojin: The Worm Valley    $22381583  ...  99.5%  2018.csv  2018\n",
              " 199   200                           Stree    $22075730  ...   100%  2018.csv  2018\n",
              " \n",
              " [200 rows x 9 columns],\n",
              "      Rank                                      Release Group  ...  Filename  Year\n",
              " 0       1                                  Avengers: Endgame  ...  2019.csv  2019\n",
              " 1       2                                      The Lion King  ...  2019.csv  2019\n",
              " 2       3                                          Frozen II  ...  2019.csv  2019\n",
              " 3       4                          Spider-Man: Far from Home  ...  2019.csv  2019\n",
              " 4       5                                     Captain Marvel  ...  2019.csv  2019\n",
              " ..    ...                                                ...  ...       ...   ...\n",
              " 195   196                               An Officer and a Spy  ...  2019.csv  2019\n",
              " 196   197  Crayon Shin-chan: Honeymoon Hurricane - The Lo...  ...  2019.csv  2019\n",
              " 197   198                                              Greta  ...  2019.csv  2019\n",
              " 198   199                  Peppa Celebrates Chinese New Year  ...  2019.csv  2019\n",
              " 199   200                                    Black Christmas  ...  2019.csv  2019\n",
              " \n",
              " [200 rows x 9 columns],\n",
              "      Rank               Release Group   Worldwide  ...    %.1  Filename  Year\n",
              " 0       1           The Eight Hundred  $461406887  ...  99.9%  2020.csv  2020\n",
              " 1       2   Demon Slayer: Mugen Train  $455495361  ...  89.5%  2020.csv  2020\n",
              " 2       3           Bad Boys for Life  $426505244  ...  51.6%  2020.csv  2020\n",
              " 3       4       My People My Homeland  $422390820  ...   100%  2020.csv  2020\n",
              " 4       5                       Tenet  $363656624  ...  83.9%  2020.csv  2020\n",
              " ..    ...                         ...         ...  ...    ...       ...   ...\n",
              " 195   196   The Broken Hearts Gallery    $4781389  ...  14.9%  2020.csv  2020\n",
              " 196   197  Gladiator 20th Anniversary    $4780585  ...   100%  2020.csv  2020\n",
              " 197   198                    Intruder    $4751103  ...   100%  2020.csv  2020\n",
              " 198   199                Granny Nanny    $4654655  ...   100%  2020.csv  2020\n",
              " 199   200              Military Wives    $4558564  ...   100%  2020.csv  2020\n",
              " \n",
              " [200 rows x 9 columns]]"
            ]
          },
          "metadata": {
            "tags": []
          },
          "execution_count": 39
        }
      ]
    },
    {
      "cell_type": "code",
      "metadata": {
        "id": "UCkR300PQWT9"
      },
      "source": [
        "complete_dataframe= pd.concat(my_dataframes)"
      ],
      "execution_count": 40,
      "outputs": []
    },
    {
      "cell_type": "code",
      "metadata": {
        "colab": {
          "base_uri": "https://localhost:8080/",
          "height": 203
        },
        "id": "KPblZy12RiGi",
        "outputId": "791f270e-72b8-4476-8d0c-d20499ed33c6"
      },
      "source": [
        "complete_dataframe.head()"
      ],
      "execution_count": 41,
      "outputs": [
        {
          "output_type": "execute_result",
          "data": {
            "text/html": [
              "<div>\n",
              "<style scoped>\n",
              "    .dataframe tbody tr th:only-of-type {\n",
              "        vertical-align: middle;\n",
              "    }\n",
              "\n",
              "    .dataframe tbody tr th {\n",
              "        vertical-align: top;\n",
              "    }\n",
              "\n",
              "    .dataframe thead th {\n",
              "        text-align: right;\n",
              "    }\n",
              "</style>\n",
              "<table border=\"1\" class=\"dataframe\">\n",
              "  <thead>\n",
              "    <tr style=\"text-align: right;\">\n",
              "      <th></th>\n",
              "      <th>Rank</th>\n",
              "      <th>Release Group</th>\n",
              "      <th>Worldwide</th>\n",
              "      <th>Domestic</th>\n",
              "      <th>%</th>\n",
              "      <th>Foreign</th>\n",
              "      <th>%.1</th>\n",
              "      <th>Filename</th>\n",
              "      <th>Year</th>\n",
              "    </tr>\n",
              "  </thead>\n",
              "  <tbody>\n",
              "    <tr>\n",
              "      <th>0</th>\n",
              "      <td>1</td>\n",
              "      <td>Star Wars: Episode VII - The Force Awakens</td>\n",
              "      <td>$2068223624</td>\n",
              "      <td>$936662225</td>\n",
              "      <td>45.3%</td>\n",
              "      <td>$1131561399</td>\n",
              "      <td>54.7%</td>\n",
              "      <td>2015.csv</td>\n",
              "      <td>2015</td>\n",
              "    </tr>\n",
              "    <tr>\n",
              "      <th>1</th>\n",
              "      <td>2</td>\n",
              "      <td>Jurassic World</td>\n",
              "      <td>$1670400637</td>\n",
              "      <td>$652270625</td>\n",
              "      <td>39%</td>\n",
              "      <td>$1018130012</td>\n",
              "      <td>61%</td>\n",
              "      <td>2015.csv</td>\n",
              "      <td>2015</td>\n",
              "    </tr>\n",
              "    <tr>\n",
              "      <th>2</th>\n",
              "      <td>3</td>\n",
              "      <td>Furious 7</td>\n",
              "      <td>$1515047671</td>\n",
              "      <td>$353007020</td>\n",
              "      <td>23.3%</td>\n",
              "      <td>$1162040651</td>\n",
              "      <td>76.7%</td>\n",
              "      <td>2015.csv</td>\n",
              "      <td>2015</td>\n",
              "    </tr>\n",
              "    <tr>\n",
              "      <th>3</th>\n",
              "      <td>4</td>\n",
              "      <td>Avengers: Age of Ultron</td>\n",
              "      <td>$1402805868</td>\n",
              "      <td>$459005868</td>\n",
              "      <td>32.7%</td>\n",
              "      <td>$943800000</td>\n",
              "      <td>67.3%</td>\n",
              "      <td>2015.csv</td>\n",
              "      <td>2015</td>\n",
              "    </tr>\n",
              "    <tr>\n",
              "      <th>4</th>\n",
              "      <td>5</td>\n",
              "      <td>Minions</td>\n",
              "      <td>$1159398397</td>\n",
              "      <td>$336045770</td>\n",
              "      <td>29%</td>\n",
              "      <td>$823352627</td>\n",
              "      <td>71%</td>\n",
              "      <td>2015.csv</td>\n",
              "      <td>2015</td>\n",
              "    </tr>\n",
              "  </tbody>\n",
              "</table>\n",
              "</div>"
            ],
            "text/plain": [
              "   Rank                               Release Group  ...  Filename  Year\n",
              "0     1  Star Wars: Episode VII - The Force Awakens  ...  2015.csv  2015\n",
              "1     2                              Jurassic World  ...  2015.csv  2015\n",
              "2     3                                   Furious 7  ...  2015.csv  2015\n",
              "3     4                     Avengers: Age of Ultron  ...  2015.csv  2015\n",
              "4     5                                     Minions  ...  2015.csv  2015\n",
              "\n",
              "[5 rows x 9 columns]"
            ]
          },
          "metadata": {
            "tags": []
          },
          "execution_count": 41
        }
      ]
    },
    {
      "cell_type": "code",
      "metadata": {
        "colab": {
          "base_uri": "https://localhost:8080/",
          "height": 203
        },
        "id": "0nJ60AVvRkii",
        "outputId": "8e50940c-4061-4b27-e916-8ef1c350fec7"
      },
      "source": [
        "complete_dataframe.tail()"
      ],
      "execution_count": 42,
      "outputs": [
        {
          "output_type": "execute_result",
          "data": {
            "text/html": [
              "<div>\n",
              "<style scoped>\n",
              "    .dataframe tbody tr th:only-of-type {\n",
              "        vertical-align: middle;\n",
              "    }\n",
              "\n",
              "    .dataframe tbody tr th {\n",
              "        vertical-align: top;\n",
              "    }\n",
              "\n",
              "    .dataframe thead th {\n",
              "        text-align: right;\n",
              "    }\n",
              "</style>\n",
              "<table border=\"1\" class=\"dataframe\">\n",
              "  <thead>\n",
              "    <tr style=\"text-align: right;\">\n",
              "      <th></th>\n",
              "      <th>Rank</th>\n",
              "      <th>Release Group</th>\n",
              "      <th>Worldwide</th>\n",
              "      <th>Domestic</th>\n",
              "      <th>%</th>\n",
              "      <th>Foreign</th>\n",
              "      <th>%.1</th>\n",
              "      <th>Filename</th>\n",
              "      <th>Year</th>\n",
              "    </tr>\n",
              "  </thead>\n",
              "  <tbody>\n",
              "    <tr>\n",
              "      <th>195</th>\n",
              "      <td>196</td>\n",
              "      <td>The Broken Hearts Gallery</td>\n",
              "      <td>$4781389</td>\n",
              "      <td>$4067442</td>\n",
              "      <td>85.1%</td>\n",
              "      <td>$713947</td>\n",
              "      <td>14.9%</td>\n",
              "      <td>2020.csv</td>\n",
              "      <td>2020</td>\n",
              "    </tr>\n",
              "    <tr>\n",
              "      <th>196</th>\n",
              "      <td>197</td>\n",
              "      <td>Gladiator 20th Anniversary</td>\n",
              "      <td>$4780585</td>\n",
              "      <td>-</td>\n",
              "      <td>-</td>\n",
              "      <td>$4780585</td>\n",
              "      <td>100%</td>\n",
              "      <td>2020.csv</td>\n",
              "      <td>2020</td>\n",
              "    </tr>\n",
              "    <tr>\n",
              "      <th>197</th>\n",
              "      <td>198</td>\n",
              "      <td>Intruder</td>\n",
              "      <td>$4751103</td>\n",
              "      <td>-</td>\n",
              "      <td>-</td>\n",
              "      <td>$4751103</td>\n",
              "      <td>100%</td>\n",
              "      <td>2020.csv</td>\n",
              "      <td>2020</td>\n",
              "    </tr>\n",
              "    <tr>\n",
              "      <th>198</th>\n",
              "      <td>199</td>\n",
              "      <td>Granny Nanny</td>\n",
              "      <td>$4654655</td>\n",
              "      <td>$432</td>\n",
              "      <td>&lt;0.1%</td>\n",
              "      <td>$4654223</td>\n",
              "      <td>100%</td>\n",
              "      <td>2020.csv</td>\n",
              "      <td>2020</td>\n",
              "    </tr>\n",
              "    <tr>\n",
              "      <th>199</th>\n",
              "      <td>200</td>\n",
              "      <td>Military Wives</td>\n",
              "      <td>$4558564</td>\n",
              "      <td>-</td>\n",
              "      <td>-</td>\n",
              "      <td>$4558564</td>\n",
              "      <td>100%</td>\n",
              "      <td>2020.csv</td>\n",
              "      <td>2020</td>\n",
              "    </tr>\n",
              "  </tbody>\n",
              "</table>\n",
              "</div>"
            ],
            "text/plain": [
              "     Rank               Release Group Worldwide  ...    %.1  Filename  Year\n",
              "195   196   The Broken Hearts Gallery  $4781389  ...  14.9%  2020.csv  2020\n",
              "196   197  Gladiator 20th Anniversary  $4780585  ...   100%  2020.csv  2020\n",
              "197   198                    Intruder  $4751103  ...   100%  2020.csv  2020\n",
              "198   199                Granny Nanny  $4654655  ...   100%  2020.csv  2020\n",
              "199   200              Military Wives  $4558564  ...   100%  2020.csv  2020\n",
              "\n",
              "[5 rows x 9 columns]"
            ]
          },
          "metadata": {
            "tags": []
          },
          "execution_count": 42
        }
      ]
    },
    {
      "cell_type": "code",
      "metadata": {
        "id": "mKhvr7RWRnHE"
      },
      "source": [
        "complete_dataframe.to_csv('movies_dataset.csv',index=False)"
      ],
      "execution_count": 45,
      "outputs": []
    },
    {
      "cell_type": "code",
      "metadata": {
        "id": "X-RDg7rzS8vW"
      },
      "source": [
        ""
      ],
      "execution_count": null,
      "outputs": []
    }
  ]
}