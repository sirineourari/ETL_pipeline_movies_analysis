{
  "nbformat": 4,
  "nbformat_minor": 0,
  "metadata": {
    "colab": {
      "name": "cleaning_data.ipynb",
      "provenance": [],
      "collapsed_sections": []
    },
    "kernelspec": {
      "name": "python3",
      "display_name": "Python 3"
    },
    "language_info": {
      "name": "python"
    }
  },
  "cells": [
    {
      "cell_type": "code",
      "metadata": {
        "id": "wG-_aQxHay1i"
      },
      "source": [
        "import pandas as pd\n",
        "import os"
      ],
      "execution_count": null,
      "outputs": []
    },
    {
      "cell_type": "code",
      "metadata": {
        "colab": {
          "base_uri": "https://localhost:8080/"
        },
        "id": "yN5zaHwEbUfH",
        "outputId": "497df765-15fb-4f9f-c5f5-2b55d05a39dc"
      },
      "source": [
        "from google.colab import drive \n",
        "drive.mount('/content/gdrive')"
      ],
      "execution_count": null,
      "outputs": [
        {
          "output_type": "stream",
          "text": [
            "Drive already mounted at /content/gdrive; to attempt to forcibly remount, call drive.mount(\"/content/gdrive\", force_remount=True).\n"
          ],
          "name": "stdout"
        }
      ]
    },
    {
      "cell_type": "code",
      "metadata": {
        "id": "gQjHtoqLbWJq"
      },
      "source": [
        "df=pd.read_csv('gdrive/My Drive/movies_dataset.csv')"
      ],
      "execution_count": null,
      "outputs": []
    },
    {
      "cell_type": "code",
      "metadata": {
        "colab": {
          "base_uri": "https://localhost:8080/",
          "height": 417
        },
        "id": "iuQTNnKwbsoc",
        "outputId": "76b9c870-1dd4-4698-edfa-b5fdd39e1cd5"
      },
      "source": [
        "df.head(1000)"
      ],
      "execution_count": null,
      "outputs": [
        {
          "output_type": "execute_result",
          "data": {
            "text/html": [
              "<div>\n",
              "<style scoped>\n",
              "    .dataframe tbody tr th:only-of-type {\n",
              "        vertical-align: middle;\n",
              "    }\n",
              "\n",
              "    .dataframe tbody tr th {\n",
              "        vertical-align: top;\n",
              "    }\n",
              "\n",
              "    .dataframe thead th {\n",
              "        text-align: right;\n",
              "    }\n",
              "</style>\n",
              "<table border=\"1\" class=\"dataframe\">\n",
              "  <thead>\n",
              "    <tr style=\"text-align: right;\">\n",
              "      <th></th>\n",
              "      <th>Rank</th>\n",
              "      <th>Release Group</th>\n",
              "      <th>Worldwide</th>\n",
              "      <th>Domestic</th>\n",
              "      <th>%</th>\n",
              "      <th>Foreign</th>\n",
              "      <th>%.1</th>\n",
              "      <th>Filename</th>\n",
              "      <th>Year</th>\n",
              "    </tr>\n",
              "  </thead>\n",
              "  <tbody>\n",
              "    <tr>\n",
              "      <th>0</th>\n",
              "      <td>1</td>\n",
              "      <td>Star Wars: Episode VII - The Force Awakens</td>\n",
              "      <td>$2068223624</td>\n",
              "      <td>$936662225</td>\n",
              "      <td>45.3%</td>\n",
              "      <td>$1131561399</td>\n",
              "      <td>54.7%</td>\n",
              "      <td>2015.csv</td>\n",
              "      <td>2015</td>\n",
              "    </tr>\n",
              "    <tr>\n",
              "      <th>1</th>\n",
              "      <td>2</td>\n",
              "      <td>Jurassic World</td>\n",
              "      <td>$1670400637</td>\n",
              "      <td>$652270625</td>\n",
              "      <td>39%</td>\n",
              "      <td>$1018130012</td>\n",
              "      <td>61%</td>\n",
              "      <td>2015.csv</td>\n",
              "      <td>2015</td>\n",
              "    </tr>\n",
              "    <tr>\n",
              "      <th>2</th>\n",
              "      <td>3</td>\n",
              "      <td>Furious 7</td>\n",
              "      <td>$1515047671</td>\n",
              "      <td>$353007020</td>\n",
              "      <td>23.3%</td>\n",
              "      <td>$1162040651</td>\n",
              "      <td>76.7%</td>\n",
              "      <td>2015.csv</td>\n",
              "      <td>2015</td>\n",
              "    </tr>\n",
              "    <tr>\n",
              "      <th>3</th>\n",
              "      <td>4</td>\n",
              "      <td>Avengers: Age of Ultron</td>\n",
              "      <td>$1402805868</td>\n",
              "      <td>$459005868</td>\n",
              "      <td>32.7%</td>\n",
              "      <td>$943800000</td>\n",
              "      <td>67.3%</td>\n",
              "      <td>2015.csv</td>\n",
              "      <td>2015</td>\n",
              "    </tr>\n",
              "    <tr>\n",
              "      <th>4</th>\n",
              "      <td>5</td>\n",
              "      <td>Minions</td>\n",
              "      <td>$1159398397</td>\n",
              "      <td>$336045770</td>\n",
              "      <td>29%</td>\n",
              "      <td>$823352627</td>\n",
              "      <td>71%</td>\n",
              "      <td>2015.csv</td>\n",
              "      <td>2015</td>\n",
              "    </tr>\n",
              "    <tr>\n",
              "      <th>...</th>\n",
              "      <td>...</td>\n",
              "      <td>...</td>\n",
              "      <td>...</td>\n",
              "      <td>...</td>\n",
              "      <td>...</td>\n",
              "      <td>...</td>\n",
              "      <td>...</td>\n",
              "      <td>...</td>\n",
              "      <td>...</td>\n",
              "    </tr>\n",
              "    <tr>\n",
              "      <th>995</th>\n",
              "      <td>196</td>\n",
              "      <td>An Officer and a Spy</td>\n",
              "      <td>$18878658</td>\n",
              "      <td>-</td>\n",
              "      <td>-</td>\n",
              "      <td>$18878658</td>\n",
              "      <td>100%</td>\n",
              "      <td>2019.csv</td>\n",
              "      <td>2019</td>\n",
              "    </tr>\n",
              "    <tr>\n",
              "      <th>996</th>\n",
              "      <td>197</td>\n",
              "      <td>Crayon Shin-chan: Honeymoon Hurricane - The Lo...</td>\n",
              "      <td>$18738951</td>\n",
              "      <td>-</td>\n",
              "      <td>-</td>\n",
              "      <td>$18738951</td>\n",
              "      <td>100%</td>\n",
              "      <td>2019.csv</td>\n",
              "      <td>2019</td>\n",
              "    </tr>\n",
              "    <tr>\n",
              "      <th>997</th>\n",
              "      <td>198</td>\n",
              "      <td>Greta</td>\n",
              "      <td>$18653107</td>\n",
              "      <td>$10532219</td>\n",
              "      <td>56.5%</td>\n",
              "      <td>$8120888</td>\n",
              "      <td>43.5%</td>\n",
              "      <td>2019.csv</td>\n",
              "      <td>2019</td>\n",
              "    </tr>\n",
              "    <tr>\n",
              "      <th>998</th>\n",
              "      <td>199</td>\n",
              "      <td>Peppa Celebrates Chinese New Year</td>\n",
              "      <td>$18653040</td>\n",
              "      <td>$131225</td>\n",
              "      <td>0.7%</td>\n",
              "      <td>$18521815</td>\n",
              "      <td>99.3%</td>\n",
              "      <td>2019.csv</td>\n",
              "      <td>2019</td>\n",
              "    </tr>\n",
              "    <tr>\n",
              "      <th>999</th>\n",
              "      <td>200</td>\n",
              "      <td>Black Christmas</td>\n",
              "      <td>$18529730</td>\n",
              "      <td>$10429730</td>\n",
              "      <td>56.3%</td>\n",
              "      <td>$8100000</td>\n",
              "      <td>43.7%</td>\n",
              "      <td>2019.csv</td>\n",
              "      <td>2019</td>\n",
              "    </tr>\n",
              "  </tbody>\n",
              "</table>\n",
              "<p>1000 rows × 9 columns</p>\n",
              "</div>"
            ],
            "text/plain": [
              "     Rank                                      Release Group  ...  Filename  Year\n",
              "0       1         Star Wars: Episode VII - The Force Awakens  ...  2015.csv  2015\n",
              "1       2                                     Jurassic World  ...  2015.csv  2015\n",
              "2       3                                          Furious 7  ...  2015.csv  2015\n",
              "3       4                            Avengers: Age of Ultron  ...  2015.csv  2015\n",
              "4       5                                            Minions  ...  2015.csv  2015\n",
              "..    ...                                                ...  ...       ...   ...\n",
              "995   196                               An Officer and a Spy  ...  2019.csv  2019\n",
              "996   197  Crayon Shin-chan: Honeymoon Hurricane - The Lo...  ...  2019.csv  2019\n",
              "997   198                                              Greta  ...  2019.csv  2019\n",
              "998   199                  Peppa Celebrates Chinese New Year  ...  2019.csv  2019\n",
              "999   200                                    Black Christmas  ...  2019.csv  2019\n",
              "\n",
              "[1000 rows x 9 columns]"
            ]
          },
          "metadata": {
            "tags": []
          },
          "execution_count": 72
        }
      ]
    },
    {
      "cell_type": "code",
      "metadata": {
        "id": "jULZLPQcb7dJ"
      },
      "source": [
        "df['Rank']= -1"
      ],
      "execution_count": null,
      "outputs": []
    },
    {
      "cell_type": "code",
      "metadata": {
        "colab": {
          "base_uri": "https://localhost:8080/",
          "height": 203
        },
        "id": "R5D5ALp8cZB7",
        "outputId": "955463ea-cfc1-4e50-9335-131e9e5f9135"
      },
      "source": [
        "df.head()"
      ],
      "execution_count": null,
      "outputs": [
        {
          "output_type": "execute_result",
          "data": {
            "text/html": [
              "<div>\n",
              "<style scoped>\n",
              "    .dataframe tbody tr th:only-of-type {\n",
              "        vertical-align: middle;\n",
              "    }\n",
              "\n",
              "    .dataframe tbody tr th {\n",
              "        vertical-align: top;\n",
              "    }\n",
              "\n",
              "    .dataframe thead th {\n",
              "        text-align: right;\n",
              "    }\n",
              "</style>\n",
              "<table border=\"1\" class=\"dataframe\">\n",
              "  <thead>\n",
              "    <tr style=\"text-align: right;\">\n",
              "      <th></th>\n",
              "      <th>Rank</th>\n",
              "      <th>Release Group</th>\n",
              "      <th>Worldwide</th>\n",
              "      <th>Domestic</th>\n",
              "      <th>%</th>\n",
              "      <th>Foreign</th>\n",
              "      <th>%.1</th>\n",
              "      <th>Filename</th>\n",
              "      <th>Year</th>\n",
              "    </tr>\n",
              "  </thead>\n",
              "  <tbody>\n",
              "    <tr>\n",
              "      <th>0</th>\n",
              "      <td>-1</td>\n",
              "      <td>Star Wars: Episode VII - The Force Awakens</td>\n",
              "      <td>$2068223624</td>\n",
              "      <td>$936662225</td>\n",
              "      <td>45.3%</td>\n",
              "      <td>$1131561399</td>\n",
              "      <td>54.7%</td>\n",
              "      <td>2015.csv</td>\n",
              "      <td>2015</td>\n",
              "    </tr>\n",
              "    <tr>\n",
              "      <th>1</th>\n",
              "      <td>-1</td>\n",
              "      <td>Jurassic World</td>\n",
              "      <td>$1670400637</td>\n",
              "      <td>$652270625</td>\n",
              "      <td>39%</td>\n",
              "      <td>$1018130012</td>\n",
              "      <td>61%</td>\n",
              "      <td>2015.csv</td>\n",
              "      <td>2015</td>\n",
              "    </tr>\n",
              "    <tr>\n",
              "      <th>2</th>\n",
              "      <td>-1</td>\n",
              "      <td>Furious 7</td>\n",
              "      <td>$1515047671</td>\n",
              "      <td>$353007020</td>\n",
              "      <td>23.3%</td>\n",
              "      <td>$1162040651</td>\n",
              "      <td>76.7%</td>\n",
              "      <td>2015.csv</td>\n",
              "      <td>2015</td>\n",
              "    </tr>\n",
              "    <tr>\n",
              "      <th>3</th>\n",
              "      <td>-1</td>\n",
              "      <td>Avengers: Age of Ultron</td>\n",
              "      <td>$1402805868</td>\n",
              "      <td>$459005868</td>\n",
              "      <td>32.7%</td>\n",
              "      <td>$943800000</td>\n",
              "      <td>67.3%</td>\n",
              "      <td>2015.csv</td>\n",
              "      <td>2015</td>\n",
              "    </tr>\n",
              "    <tr>\n",
              "      <th>4</th>\n",
              "      <td>-1</td>\n",
              "      <td>Minions</td>\n",
              "      <td>$1159398397</td>\n",
              "      <td>$336045770</td>\n",
              "      <td>29%</td>\n",
              "      <td>$823352627</td>\n",
              "      <td>71%</td>\n",
              "      <td>2015.csv</td>\n",
              "      <td>2015</td>\n",
              "    </tr>\n",
              "  </tbody>\n",
              "</table>\n",
              "</div>"
            ],
            "text/plain": [
              "   Rank                               Release Group  ...  Filename  Year\n",
              "0    -1  Star Wars: Episode VII - The Force Awakens  ...  2015.csv  2015\n",
              "1    -1                              Jurassic World  ...  2015.csv  2015\n",
              "2    -1                                   Furious 7  ...  2015.csv  2015\n",
              "3    -1                     Avengers: Age of Ultron  ...  2015.csv  2015\n",
              "4    -1                                     Minions  ...  2015.csv  2015\n",
              "\n",
              "[5 rows x 9 columns]"
            ]
          },
          "metadata": {
            "tags": []
          },
          "execution_count": 74
        }
      ]
    },
    {
      "cell_type": "code",
      "metadata": {
        "id": "Z-Jhk_14cawf"
      },
      "source": [
        "df['Domestic %']=df['%']\n",
        "df['Foreign %'] =df['%.1']"
      ],
      "execution_count": null,
      "outputs": []
    },
    {
      "cell_type": "code",
      "metadata": {
        "colab": {
          "base_uri": "https://localhost:8080/",
          "height": 80
        },
        "id": "w_WPZfSuc6iX",
        "outputId": "cb6fb5b6-17d1-4f78-9ab8-60521a9b7510"
      },
      "source": [
        "df.head(1)"
      ],
      "execution_count": null,
      "outputs": [
        {
          "output_type": "execute_result",
          "data": {
            "text/html": [
              "<div>\n",
              "<style scoped>\n",
              "    .dataframe tbody tr th:only-of-type {\n",
              "        vertical-align: middle;\n",
              "    }\n",
              "\n",
              "    .dataframe tbody tr th {\n",
              "        vertical-align: top;\n",
              "    }\n",
              "\n",
              "    .dataframe thead th {\n",
              "        text-align: right;\n",
              "    }\n",
              "</style>\n",
              "<table border=\"1\" class=\"dataframe\">\n",
              "  <thead>\n",
              "    <tr style=\"text-align: right;\">\n",
              "      <th></th>\n",
              "      <th>Rank</th>\n",
              "      <th>Release Group</th>\n",
              "      <th>Worldwide</th>\n",
              "      <th>Domestic</th>\n",
              "      <th>%</th>\n",
              "      <th>Foreign</th>\n",
              "      <th>%.1</th>\n",
              "      <th>Filename</th>\n",
              "      <th>Year</th>\n",
              "      <th>Domestic %</th>\n",
              "      <th>Foreign %</th>\n",
              "    </tr>\n",
              "  </thead>\n",
              "  <tbody>\n",
              "    <tr>\n",
              "      <th>0</th>\n",
              "      <td>-1</td>\n",
              "      <td>Star Wars: Episode VII - The Force Awakens</td>\n",
              "      <td>$2068223624</td>\n",
              "      <td>$936662225</td>\n",
              "      <td>45.3%</td>\n",
              "      <td>$1131561399</td>\n",
              "      <td>54.7%</td>\n",
              "      <td>2015.csv</td>\n",
              "      <td>2015</td>\n",
              "      <td>45.3%</td>\n",
              "      <td>54.7%</td>\n",
              "    </tr>\n",
              "  </tbody>\n",
              "</table>\n",
              "</div>"
            ],
            "text/plain": [
              "   Rank                               Release Group  ... Domestic % Foreign %\n",
              "0    -1  Star Wars: Episode VII - The Force Awakens  ...      45.3%     54.7%\n",
              "\n",
              "[1 rows x 11 columns]"
            ]
          },
          "metadata": {
            "tags": []
          },
          "execution_count": 76
        }
      ]
    },
    {
      "cell_type": "code",
      "metadata": {
        "id": "FW51zENbc8Kn"
      },
      "source": [
        "df.drop(columns=['%','%.1'],inplace=True)"
      ],
      "execution_count": null,
      "outputs": []
    },
    {
      "cell_type": "code",
      "metadata": {
        "colab": {
          "base_uri": "https://localhost:8080/",
          "height": 203
        },
        "id": "lCoI0T-4dFbf",
        "outputId": "22eb2b1d-d821-4490-c49c-5e8d347f0ca3"
      },
      "source": [
        "df.head()"
      ],
      "execution_count": null,
      "outputs": [
        {
          "output_type": "execute_result",
          "data": {
            "text/html": [
              "<div>\n",
              "<style scoped>\n",
              "    .dataframe tbody tr th:only-of-type {\n",
              "        vertical-align: middle;\n",
              "    }\n",
              "\n",
              "    .dataframe tbody tr th {\n",
              "        vertical-align: top;\n",
              "    }\n",
              "\n",
              "    .dataframe thead th {\n",
              "        text-align: right;\n",
              "    }\n",
              "</style>\n",
              "<table border=\"1\" class=\"dataframe\">\n",
              "  <thead>\n",
              "    <tr style=\"text-align: right;\">\n",
              "      <th></th>\n",
              "      <th>Rank</th>\n",
              "      <th>Release Group</th>\n",
              "      <th>Worldwide</th>\n",
              "      <th>Domestic</th>\n",
              "      <th>Foreign</th>\n",
              "      <th>Filename</th>\n",
              "      <th>Year</th>\n",
              "      <th>Domestic %</th>\n",
              "      <th>Foreign %</th>\n",
              "    </tr>\n",
              "  </thead>\n",
              "  <tbody>\n",
              "    <tr>\n",
              "      <th>0</th>\n",
              "      <td>-1</td>\n",
              "      <td>Star Wars: Episode VII - The Force Awakens</td>\n",
              "      <td>$2068223624</td>\n",
              "      <td>$936662225</td>\n",
              "      <td>$1131561399</td>\n",
              "      <td>2015.csv</td>\n",
              "      <td>2015</td>\n",
              "      <td>45.3%</td>\n",
              "      <td>54.7%</td>\n",
              "    </tr>\n",
              "    <tr>\n",
              "      <th>1</th>\n",
              "      <td>-1</td>\n",
              "      <td>Jurassic World</td>\n",
              "      <td>$1670400637</td>\n",
              "      <td>$652270625</td>\n",
              "      <td>$1018130012</td>\n",
              "      <td>2015.csv</td>\n",
              "      <td>2015</td>\n",
              "      <td>39%</td>\n",
              "      <td>61%</td>\n",
              "    </tr>\n",
              "    <tr>\n",
              "      <th>2</th>\n",
              "      <td>-1</td>\n",
              "      <td>Furious 7</td>\n",
              "      <td>$1515047671</td>\n",
              "      <td>$353007020</td>\n",
              "      <td>$1162040651</td>\n",
              "      <td>2015.csv</td>\n",
              "      <td>2015</td>\n",
              "      <td>23.3%</td>\n",
              "      <td>76.7%</td>\n",
              "    </tr>\n",
              "    <tr>\n",
              "      <th>3</th>\n",
              "      <td>-1</td>\n",
              "      <td>Avengers: Age of Ultron</td>\n",
              "      <td>$1402805868</td>\n",
              "      <td>$459005868</td>\n",
              "      <td>$943800000</td>\n",
              "      <td>2015.csv</td>\n",
              "      <td>2015</td>\n",
              "      <td>32.7%</td>\n",
              "      <td>67.3%</td>\n",
              "    </tr>\n",
              "    <tr>\n",
              "      <th>4</th>\n",
              "      <td>-1</td>\n",
              "      <td>Minions</td>\n",
              "      <td>$1159398397</td>\n",
              "      <td>$336045770</td>\n",
              "      <td>$823352627</td>\n",
              "      <td>2015.csv</td>\n",
              "      <td>2015</td>\n",
              "      <td>29%</td>\n",
              "      <td>71%</td>\n",
              "    </tr>\n",
              "  </tbody>\n",
              "</table>\n",
              "</div>"
            ],
            "text/plain": [
              "   Rank                               Release Group  ... Domestic % Foreign %\n",
              "0    -1  Star Wars: Episode VII - The Force Awakens  ...      45.3%     54.7%\n",
              "1    -1                              Jurassic World  ...        39%       61%\n",
              "2    -1                                   Furious 7  ...      23.3%     76.7%\n",
              "3    -1                     Avengers: Age of Ultron  ...      32.7%     67.3%\n",
              "4    -1                                     Minions  ...        29%       71%\n",
              "\n",
              "[5 rows x 9 columns]"
            ]
          },
          "metadata": {
            "tags": []
          },
          "execution_count": 78
        }
      ]
    },
    {
      "cell_type": "code",
      "metadata": {
        "colab": {
          "base_uri": "https://localhost:8080/"
        },
        "id": "GcUeUxitlwe0",
        "outputId": "f1a7855c-8dbb-4aeb-ac36-a527e17ef5a4"
      },
      "source": [
        "df.isnull().sum()"
      ],
      "execution_count": null,
      "outputs": [
        {
          "output_type": "execute_result",
          "data": {
            "text/plain": [
              "Rank             0\n",
              "Release Group    0\n",
              "Worldwide        0\n",
              "Domestic         0\n",
              "Foreign          0\n",
              "Filename         0\n",
              "Year             0\n",
              "Domestic %       0\n",
              "Foreign %        0\n",
              "dtype: int64"
            ]
          },
          "metadata": {
            "tags": []
          },
          "execution_count": 79
        }
      ]
    },
    {
      "cell_type": "code",
      "metadata": {
        "colab": {
          "base_uri": "https://localhost:8080/"
        },
        "id": "mIO0jaPom1W9",
        "outputId": "835ecaa1-89df-4bd2-96fc-36ad69c4f220"
      },
      "source": [
        "df.dtypes"
      ],
      "execution_count": null,
      "outputs": [
        {
          "output_type": "execute_result",
          "data": {
            "text/plain": [
              "Rank              int64\n",
              "Release Group    object\n",
              "Worldwide        object\n",
              "Domestic         object\n",
              "Foreign          object\n",
              "Filename         object\n",
              "Year              int64\n",
              "Domestic %       object\n",
              "Foreign %        object\n",
              "dtype: object"
            ]
          },
          "metadata": {
            "tags": []
          },
          "execution_count": 80
        }
      ]
    },
    {
      "cell_type": "code",
      "metadata": {
        "colab": {
          "base_uri": "https://localhost:8080/"
        },
        "id": "4R3sJL9deLP-",
        "outputId": "6be8a448-e6c1-49cd-9864-423801a6220a"
      },
      "source": [
        "#list of columns to clean \n",
        "\n",
        "def convert_currency_to_int(val):\n",
        "  val=val.replace(\"$\",\"\")\n",
        "  try:\n",
        "    val=int(val)\n",
        "  except:\n",
        "    #when the value is not a number(some values are : \"-\" ) it takes 0\n",
        "    val=0\n",
        "  return val\n",
        "\n",
        "list_col=['Worldwide','Domestic','Foreign']\n",
        "def clean_col(row):\n",
        "  for col in list_col:\n",
        "    current_value = row[col]\n",
        "    row[col] = convert_currency_to_int(current_value )\n",
        "  return row \n",
        "df= df.apply(clean_col, axis=1)\n",
        "\n",
        "print(df.head())"
      ],
      "execution_count": null,
      "outputs": [
        {
          "output_type": "stream",
          "text": [
            "   Rank                               Release Group  ...  Domestic %  Foreign %\n",
            "0    -1  Star Wars: Episode VII - The Force Awakens  ...       45.3%      54.7%\n",
            "1    -1                              Jurassic World  ...         39%        61%\n",
            "2    -1                                   Furious 7  ...       23.3%      76.7%\n",
            "3    -1                     Avengers: Age of Ultron  ...       32.7%      67.3%\n",
            "4    -1                                     Minions  ...         29%        71%\n",
            "\n",
            "[5 rows x 9 columns]\n"
          ],
          "name": "stdout"
        }
      ]
    },
    {
      "cell_type": "code",
      "metadata": {
        "colab": {
          "base_uri": "https://localhost:8080/",
          "height": 203
        },
        "id": "Ev4PDVjMe4bH",
        "outputId": "bcae0368-96e0-406a-b54c-2b48e716b582"
      },
      "source": [
        "df.head()"
      ],
      "execution_count": null,
      "outputs": [
        {
          "output_type": "execute_result",
          "data": {
            "text/html": [
              "<div>\n",
              "<style scoped>\n",
              "    .dataframe tbody tr th:only-of-type {\n",
              "        vertical-align: middle;\n",
              "    }\n",
              "\n",
              "    .dataframe tbody tr th {\n",
              "        vertical-align: top;\n",
              "    }\n",
              "\n",
              "    .dataframe thead th {\n",
              "        text-align: right;\n",
              "    }\n",
              "</style>\n",
              "<table border=\"1\" class=\"dataframe\">\n",
              "  <thead>\n",
              "    <tr style=\"text-align: right;\">\n",
              "      <th></th>\n",
              "      <th>Rank</th>\n",
              "      <th>Release Group</th>\n",
              "      <th>Worldwide</th>\n",
              "      <th>Domestic</th>\n",
              "      <th>Foreign</th>\n",
              "      <th>Filename</th>\n",
              "      <th>Year</th>\n",
              "      <th>Domestic %</th>\n",
              "      <th>Foreign %</th>\n",
              "    </tr>\n",
              "  </thead>\n",
              "  <tbody>\n",
              "    <tr>\n",
              "      <th>0</th>\n",
              "      <td>-1</td>\n",
              "      <td>Star Wars: Episode VII - The Force Awakens</td>\n",
              "      <td>2068223624</td>\n",
              "      <td>936662225</td>\n",
              "      <td>1131561399</td>\n",
              "      <td>2015.csv</td>\n",
              "      <td>2015</td>\n",
              "      <td>45.3%</td>\n",
              "      <td>54.7%</td>\n",
              "    </tr>\n",
              "    <tr>\n",
              "      <th>1</th>\n",
              "      <td>-1</td>\n",
              "      <td>Jurassic World</td>\n",
              "      <td>1670400637</td>\n",
              "      <td>652270625</td>\n",
              "      <td>1018130012</td>\n",
              "      <td>2015.csv</td>\n",
              "      <td>2015</td>\n",
              "      <td>39%</td>\n",
              "      <td>61%</td>\n",
              "    </tr>\n",
              "    <tr>\n",
              "      <th>2</th>\n",
              "      <td>-1</td>\n",
              "      <td>Furious 7</td>\n",
              "      <td>1515047671</td>\n",
              "      <td>353007020</td>\n",
              "      <td>1162040651</td>\n",
              "      <td>2015.csv</td>\n",
              "      <td>2015</td>\n",
              "      <td>23.3%</td>\n",
              "      <td>76.7%</td>\n",
              "    </tr>\n",
              "    <tr>\n",
              "      <th>3</th>\n",
              "      <td>-1</td>\n",
              "      <td>Avengers: Age of Ultron</td>\n",
              "      <td>1402805868</td>\n",
              "      <td>459005868</td>\n",
              "      <td>943800000</td>\n",
              "      <td>2015.csv</td>\n",
              "      <td>2015</td>\n",
              "      <td>32.7%</td>\n",
              "      <td>67.3%</td>\n",
              "    </tr>\n",
              "    <tr>\n",
              "      <th>4</th>\n",
              "      <td>-1</td>\n",
              "      <td>Minions</td>\n",
              "      <td>1159398397</td>\n",
              "      <td>336045770</td>\n",
              "      <td>823352627</td>\n",
              "      <td>2015.csv</td>\n",
              "      <td>2015</td>\n",
              "      <td>29%</td>\n",
              "      <td>71%</td>\n",
              "    </tr>\n",
              "  </tbody>\n",
              "</table>\n",
              "</div>"
            ],
            "text/plain": [
              "   Rank                               Release Group  ...  Domestic %  Foreign %\n",
              "0    -1  Star Wars: Episode VII - The Force Awakens  ...       45.3%      54.7%\n",
              "1    -1                              Jurassic World  ...         39%        61%\n",
              "2    -1                                   Furious 7  ...       23.3%      76.7%\n",
              "3    -1                     Avengers: Age of Ultron  ...       32.7%      67.3%\n",
              "4    -1                                     Minions  ...         29%        71%\n",
              "\n",
              "[5 rows x 9 columns]"
            ]
          },
          "metadata": {
            "tags": []
          },
          "execution_count": 82
        }
      ]
    },
    {
      "cell_type": "code",
      "metadata": {
        "colab": {
          "base_uri": "https://localhost:8080/"
        },
        "id": "LUItCElie91X",
        "outputId": "d48ace97-f4a0-4b0c-f598-6ca664932bed"
      },
      "source": [
        "df.dtypes"
      ],
      "execution_count": null,
      "outputs": [
        {
          "output_type": "execute_result",
          "data": {
            "text/plain": [
              "Rank              int64\n",
              "Release Group    object\n",
              "Worldwide         int64\n",
              "Domestic          int64\n",
              "Foreign           int64\n",
              "Filename         object\n",
              "Year              int64\n",
              "Domestic %       object\n",
              "Foreign %        object\n",
              "dtype: object"
            ]
          },
          "metadata": {
            "tags": []
          },
          "execution_count": 83
        }
      ]
    },
    {
      "cell_type": "code",
      "metadata": {
        "colab": {
          "base_uri": "https://localhost:8080/",
          "height": 203
        },
        "id": "DDC-stjqmsmI",
        "outputId": "8fbe0bd0-4c7c-476c-9b56-b33a0646d03f"
      },
      "source": [
        "#sort the revenues worldwide in descending order so that the best movies are in top \n",
        "df.sort_values(by=['Worldwide'],inplace=True,ascending=False)\n",
        "df.head()"
      ],
      "execution_count": null,
      "outputs": [
        {
          "output_type": "execute_result",
          "data": {
            "text/html": [
              "<div>\n",
              "<style scoped>\n",
              "    .dataframe tbody tr th:only-of-type {\n",
              "        vertical-align: middle;\n",
              "    }\n",
              "\n",
              "    .dataframe tbody tr th {\n",
              "        vertical-align: top;\n",
              "    }\n",
              "\n",
              "    .dataframe thead th {\n",
              "        text-align: right;\n",
              "    }\n",
              "</style>\n",
              "<table border=\"1\" class=\"dataframe\">\n",
              "  <thead>\n",
              "    <tr style=\"text-align: right;\">\n",
              "      <th></th>\n",
              "      <th>Rank</th>\n",
              "      <th>Release Group</th>\n",
              "      <th>Worldwide</th>\n",
              "      <th>Domestic</th>\n",
              "      <th>Foreign</th>\n",
              "      <th>Filename</th>\n",
              "      <th>Year</th>\n",
              "      <th>Domestic %</th>\n",
              "      <th>Foreign %</th>\n",
              "    </tr>\n",
              "  </thead>\n",
              "  <tbody>\n",
              "    <tr>\n",
              "      <th>800</th>\n",
              "      <td>-1</td>\n",
              "      <td>Avengers: Endgame</td>\n",
              "      <td>2797501328</td>\n",
              "      <td>858373000</td>\n",
              "      <td>1939128328</td>\n",
              "      <td>2019.csv</td>\n",
              "      <td>2019</td>\n",
              "      <td>30.7%</td>\n",
              "      <td>69.3%</td>\n",
              "    </tr>\n",
              "    <tr>\n",
              "      <th>0</th>\n",
              "      <td>-1</td>\n",
              "      <td>Star Wars: Episode VII - The Force Awakens</td>\n",
              "      <td>2068223624</td>\n",
              "      <td>936662225</td>\n",
              "      <td>1131561399</td>\n",
              "      <td>2015.csv</td>\n",
              "      <td>2015</td>\n",
              "      <td>45.3%</td>\n",
              "      <td>54.7%</td>\n",
              "    </tr>\n",
              "    <tr>\n",
              "      <th>600</th>\n",
              "      <td>-1</td>\n",
              "      <td>Avengers: Infinity War</td>\n",
              "      <td>2048359754</td>\n",
              "      <td>678815482</td>\n",
              "      <td>1369544272</td>\n",
              "      <td>2018.csv</td>\n",
              "      <td>2018</td>\n",
              "      <td>33.1%</td>\n",
              "      <td>66.9%</td>\n",
              "    </tr>\n",
              "    <tr>\n",
              "      <th>1</th>\n",
              "      <td>-1</td>\n",
              "      <td>Jurassic World</td>\n",
              "      <td>1670400637</td>\n",
              "      <td>652270625</td>\n",
              "      <td>1018130012</td>\n",
              "      <td>2015.csv</td>\n",
              "      <td>2015</td>\n",
              "      <td>39%</td>\n",
              "      <td>61%</td>\n",
              "    </tr>\n",
              "    <tr>\n",
              "      <th>801</th>\n",
              "      <td>-1</td>\n",
              "      <td>The Lion King</td>\n",
              "      <td>1656943394</td>\n",
              "      <td>543638043</td>\n",
              "      <td>1113305351</td>\n",
              "      <td>2019.csv</td>\n",
              "      <td>2019</td>\n",
              "      <td>32.8%</td>\n",
              "      <td>67.2%</td>\n",
              "    </tr>\n",
              "  </tbody>\n",
              "</table>\n",
              "</div>"
            ],
            "text/plain": [
              "     Rank                               Release Group  ...  Domestic %  Foreign %\n",
              "800    -1                           Avengers: Endgame  ...       30.7%      69.3%\n",
              "0      -1  Star Wars: Episode VII - The Force Awakens  ...       45.3%      54.7%\n",
              "600    -1                      Avengers: Infinity War  ...       33.1%      66.9%\n",
              "1      -1                              Jurassic World  ...         39%        61%\n",
              "801    -1                               The Lion King  ...       32.8%      67.2%\n",
              "\n",
              "[5 rows x 9 columns]"
            ]
          },
          "metadata": {
            "tags": []
          },
          "execution_count": 84
        }
      ]
    },
    {
      "cell_type": "code",
      "metadata": {
        "colab": {
          "base_uri": "https://localhost:8080/",
          "height": 203
        },
        "id": "c6dCQWgdna0Q",
        "outputId": "a10eba8a-71c0-48d1-f680-68995b278057"
      },
      "source": [
        "df.tail()"
      ],
      "execution_count": null,
      "outputs": [
        {
          "output_type": "execute_result",
          "data": {
            "text/html": [
              "<div>\n",
              "<style scoped>\n",
              "    .dataframe tbody tr th:only-of-type {\n",
              "        vertical-align: middle;\n",
              "    }\n",
              "\n",
              "    .dataframe tbody tr th {\n",
              "        vertical-align: top;\n",
              "    }\n",
              "\n",
              "    .dataframe thead th {\n",
              "        text-align: right;\n",
              "    }\n",
              "</style>\n",
              "<table border=\"1\" class=\"dataframe\">\n",
              "  <thead>\n",
              "    <tr style=\"text-align: right;\">\n",
              "      <th></th>\n",
              "      <th>Rank</th>\n",
              "      <th>Release Group</th>\n",
              "      <th>Worldwide</th>\n",
              "      <th>Domestic</th>\n",
              "      <th>Foreign</th>\n",
              "      <th>Filename</th>\n",
              "      <th>Year</th>\n",
              "      <th>Domestic %</th>\n",
              "      <th>Foreign %</th>\n",
              "    </tr>\n",
              "  </thead>\n",
              "  <tbody>\n",
              "    <tr>\n",
              "      <th>1195</th>\n",
              "      <td>-1</td>\n",
              "      <td>The Broken Hearts Gallery</td>\n",
              "      <td>4781389</td>\n",
              "      <td>4067442</td>\n",
              "      <td>713947</td>\n",
              "      <td>2020.csv</td>\n",
              "      <td>2020</td>\n",
              "      <td>85.1%</td>\n",
              "      <td>14.9%</td>\n",
              "    </tr>\n",
              "    <tr>\n",
              "      <th>1196</th>\n",
              "      <td>-1</td>\n",
              "      <td>Gladiator 20th Anniversary</td>\n",
              "      <td>4780585</td>\n",
              "      <td>0</td>\n",
              "      <td>4780585</td>\n",
              "      <td>2020.csv</td>\n",
              "      <td>2020</td>\n",
              "      <td>-</td>\n",
              "      <td>100%</td>\n",
              "    </tr>\n",
              "    <tr>\n",
              "      <th>1197</th>\n",
              "      <td>-1</td>\n",
              "      <td>Intruder</td>\n",
              "      <td>4751103</td>\n",
              "      <td>0</td>\n",
              "      <td>4751103</td>\n",
              "      <td>2020.csv</td>\n",
              "      <td>2020</td>\n",
              "      <td>-</td>\n",
              "      <td>100%</td>\n",
              "    </tr>\n",
              "    <tr>\n",
              "      <th>1198</th>\n",
              "      <td>-1</td>\n",
              "      <td>Granny Nanny</td>\n",
              "      <td>4654655</td>\n",
              "      <td>432</td>\n",
              "      <td>4654223</td>\n",
              "      <td>2020.csv</td>\n",
              "      <td>2020</td>\n",
              "      <td>&lt;0.1%</td>\n",
              "      <td>100%</td>\n",
              "    </tr>\n",
              "    <tr>\n",
              "      <th>1199</th>\n",
              "      <td>-1</td>\n",
              "      <td>Military Wives</td>\n",
              "      <td>4558564</td>\n",
              "      <td>0</td>\n",
              "      <td>4558564</td>\n",
              "      <td>2020.csv</td>\n",
              "      <td>2020</td>\n",
              "      <td>-</td>\n",
              "      <td>100%</td>\n",
              "    </tr>\n",
              "  </tbody>\n",
              "</table>\n",
              "</div>"
            ],
            "text/plain": [
              "      Rank               Release Group  Worldwide  ...  Year  Domestic % Foreign %\n",
              "1195    -1   The Broken Hearts Gallery    4781389  ...  2020       85.1%     14.9%\n",
              "1196    -1  Gladiator 20th Anniversary    4780585  ...  2020           -      100%\n",
              "1197    -1                    Intruder    4751103  ...  2020           -      100%\n",
              "1198    -1                Granny Nanny    4654655  ...  2020       <0.1%      100%\n",
              "1199    -1              Military Wives    4558564  ...  2020           -      100%\n",
              "\n",
              "[5 rows x 9 columns]"
            ]
          },
          "metadata": {
            "tags": []
          },
          "execution_count": 85
        }
      ]
    },
    {
      "cell_type": "code",
      "metadata": {
        "colab": {
          "base_uri": "https://localhost:8080/",
          "height": 203
        },
        "id": "4wUA0KmdngWA",
        "outputId": "d8cce314-5ac4-4697-f8f1-00a8c6f77890"
      },
      "source": [
        "df.reset_index(inplace=True,drop=True)\n",
        "df.head() "
      ],
      "execution_count": null,
      "outputs": [
        {
          "output_type": "execute_result",
          "data": {
            "text/html": [
              "<div>\n",
              "<style scoped>\n",
              "    .dataframe tbody tr th:only-of-type {\n",
              "        vertical-align: middle;\n",
              "    }\n",
              "\n",
              "    .dataframe tbody tr th {\n",
              "        vertical-align: top;\n",
              "    }\n",
              "\n",
              "    .dataframe thead th {\n",
              "        text-align: right;\n",
              "    }\n",
              "</style>\n",
              "<table border=\"1\" class=\"dataframe\">\n",
              "  <thead>\n",
              "    <tr style=\"text-align: right;\">\n",
              "      <th></th>\n",
              "      <th>Rank</th>\n",
              "      <th>Release Group</th>\n",
              "      <th>Worldwide</th>\n",
              "      <th>Domestic</th>\n",
              "      <th>Foreign</th>\n",
              "      <th>Filename</th>\n",
              "      <th>Year</th>\n",
              "      <th>Domestic %</th>\n",
              "      <th>Foreign %</th>\n",
              "    </tr>\n",
              "  </thead>\n",
              "  <tbody>\n",
              "    <tr>\n",
              "      <th>0</th>\n",
              "      <td>-1</td>\n",
              "      <td>Avengers: Endgame</td>\n",
              "      <td>2797501328</td>\n",
              "      <td>858373000</td>\n",
              "      <td>1939128328</td>\n",
              "      <td>2019.csv</td>\n",
              "      <td>2019</td>\n",
              "      <td>30.7%</td>\n",
              "      <td>69.3%</td>\n",
              "    </tr>\n",
              "    <tr>\n",
              "      <th>1</th>\n",
              "      <td>-1</td>\n",
              "      <td>Star Wars: Episode VII - The Force Awakens</td>\n",
              "      <td>2068223624</td>\n",
              "      <td>936662225</td>\n",
              "      <td>1131561399</td>\n",
              "      <td>2015.csv</td>\n",
              "      <td>2015</td>\n",
              "      <td>45.3%</td>\n",
              "      <td>54.7%</td>\n",
              "    </tr>\n",
              "    <tr>\n",
              "      <th>2</th>\n",
              "      <td>-1</td>\n",
              "      <td>Avengers: Infinity War</td>\n",
              "      <td>2048359754</td>\n",
              "      <td>678815482</td>\n",
              "      <td>1369544272</td>\n",
              "      <td>2018.csv</td>\n",
              "      <td>2018</td>\n",
              "      <td>33.1%</td>\n",
              "      <td>66.9%</td>\n",
              "    </tr>\n",
              "    <tr>\n",
              "      <th>3</th>\n",
              "      <td>-1</td>\n",
              "      <td>Jurassic World</td>\n",
              "      <td>1670400637</td>\n",
              "      <td>652270625</td>\n",
              "      <td>1018130012</td>\n",
              "      <td>2015.csv</td>\n",
              "      <td>2015</td>\n",
              "      <td>39%</td>\n",
              "      <td>61%</td>\n",
              "    </tr>\n",
              "    <tr>\n",
              "      <th>4</th>\n",
              "      <td>-1</td>\n",
              "      <td>The Lion King</td>\n",
              "      <td>1656943394</td>\n",
              "      <td>543638043</td>\n",
              "      <td>1113305351</td>\n",
              "      <td>2019.csv</td>\n",
              "      <td>2019</td>\n",
              "      <td>32.8%</td>\n",
              "      <td>67.2%</td>\n",
              "    </tr>\n",
              "  </tbody>\n",
              "</table>\n",
              "</div>"
            ],
            "text/plain": [
              "   Rank                               Release Group  ...  Domestic %  Foreign %\n",
              "0    -1                           Avengers: Endgame  ...       30.7%      69.3%\n",
              "1    -1  Star Wars: Episode VII - The Force Awakens  ...       45.3%      54.7%\n",
              "2    -1                      Avengers: Infinity War  ...       33.1%      66.9%\n",
              "3    -1                              Jurassic World  ...         39%        61%\n",
              "4    -1                               The Lion King  ...       32.8%      67.2%\n",
              "\n",
              "[5 rows x 9 columns]"
            ]
          },
          "metadata": {
            "tags": []
          },
          "execution_count": 86
        }
      ]
    },
    {
      "cell_type": "code",
      "metadata": {
        "colab": {
          "base_uri": "https://localhost:8080/",
          "height": 203
        },
        "id": "G8HDnfwzoQ7w",
        "outputId": "e2897045-fa55-450b-9941-dddc6f0f0220"
      },
      "source": [
        "df['Rank']=df.index + 1\n",
        "df.head()"
      ],
      "execution_count": null,
      "outputs": [
        {
          "output_type": "execute_result",
          "data": {
            "text/html": [
              "<div>\n",
              "<style scoped>\n",
              "    .dataframe tbody tr th:only-of-type {\n",
              "        vertical-align: middle;\n",
              "    }\n",
              "\n",
              "    .dataframe tbody tr th {\n",
              "        vertical-align: top;\n",
              "    }\n",
              "\n",
              "    .dataframe thead th {\n",
              "        text-align: right;\n",
              "    }\n",
              "</style>\n",
              "<table border=\"1\" class=\"dataframe\">\n",
              "  <thead>\n",
              "    <tr style=\"text-align: right;\">\n",
              "      <th></th>\n",
              "      <th>Rank</th>\n",
              "      <th>Release Group</th>\n",
              "      <th>Worldwide</th>\n",
              "      <th>Domestic</th>\n",
              "      <th>Foreign</th>\n",
              "      <th>Filename</th>\n",
              "      <th>Year</th>\n",
              "      <th>Domestic %</th>\n",
              "      <th>Foreign %</th>\n",
              "    </tr>\n",
              "  </thead>\n",
              "  <tbody>\n",
              "    <tr>\n",
              "      <th>0</th>\n",
              "      <td>1</td>\n",
              "      <td>Avengers: Endgame</td>\n",
              "      <td>2797501328</td>\n",
              "      <td>858373000</td>\n",
              "      <td>1939128328</td>\n",
              "      <td>2019.csv</td>\n",
              "      <td>2019</td>\n",
              "      <td>30.7%</td>\n",
              "      <td>69.3%</td>\n",
              "    </tr>\n",
              "    <tr>\n",
              "      <th>1</th>\n",
              "      <td>2</td>\n",
              "      <td>Star Wars: Episode VII - The Force Awakens</td>\n",
              "      <td>2068223624</td>\n",
              "      <td>936662225</td>\n",
              "      <td>1131561399</td>\n",
              "      <td>2015.csv</td>\n",
              "      <td>2015</td>\n",
              "      <td>45.3%</td>\n",
              "      <td>54.7%</td>\n",
              "    </tr>\n",
              "    <tr>\n",
              "      <th>2</th>\n",
              "      <td>3</td>\n",
              "      <td>Avengers: Infinity War</td>\n",
              "      <td>2048359754</td>\n",
              "      <td>678815482</td>\n",
              "      <td>1369544272</td>\n",
              "      <td>2018.csv</td>\n",
              "      <td>2018</td>\n",
              "      <td>33.1%</td>\n",
              "      <td>66.9%</td>\n",
              "    </tr>\n",
              "    <tr>\n",
              "      <th>3</th>\n",
              "      <td>4</td>\n",
              "      <td>Jurassic World</td>\n",
              "      <td>1670400637</td>\n",
              "      <td>652270625</td>\n",
              "      <td>1018130012</td>\n",
              "      <td>2015.csv</td>\n",
              "      <td>2015</td>\n",
              "      <td>39%</td>\n",
              "      <td>61%</td>\n",
              "    </tr>\n",
              "    <tr>\n",
              "      <th>4</th>\n",
              "      <td>5</td>\n",
              "      <td>The Lion King</td>\n",
              "      <td>1656943394</td>\n",
              "      <td>543638043</td>\n",
              "      <td>1113305351</td>\n",
              "      <td>2019.csv</td>\n",
              "      <td>2019</td>\n",
              "      <td>32.8%</td>\n",
              "      <td>67.2%</td>\n",
              "    </tr>\n",
              "  </tbody>\n",
              "</table>\n",
              "</div>"
            ],
            "text/plain": [
              "   Rank                               Release Group  ...  Domestic %  Foreign %\n",
              "0     1                           Avengers: Endgame  ...       30.7%      69.3%\n",
              "1     2  Star Wars: Episode VII - The Force Awakens  ...       45.3%      54.7%\n",
              "2     3                      Avengers: Infinity War  ...       33.1%      66.9%\n",
              "3     4                              Jurassic World  ...         39%        61%\n",
              "4     5                               The Lion King  ...       32.8%      67.2%\n",
              "\n",
              "[5 rows x 9 columns]"
            ]
          },
          "metadata": {
            "tags": []
          },
          "execution_count": 87
        }
      ]
    },
    {
      "cell_type": "code",
      "metadata": {
        "id": "sP-sRfCIo0gR"
      },
      "source": [
        "df['Domestic %']= df['Domestic']/df['Worldwide']\n",
        "df['Foreign %']= df['Foreign']/df['Worldwide']\n",
        "#we do that to change th data types of these values\n",
        "#they're also closer to accurate becuse they are not rounded"
      ],
      "execution_count": null,
      "outputs": []
    },
    {
      "cell_type": "code",
      "metadata": {
        "colab": {
          "base_uri": "https://localhost:8080/",
          "height": 203
        },
        "id": "gweN8T0rpYcY",
        "outputId": "a18c9557-e020-42fb-d891-a2afaa5725ec"
      },
      "source": [
        "df.head()"
      ],
      "execution_count": null,
      "outputs": [
        {
          "output_type": "execute_result",
          "data": {
            "text/html": [
              "<div>\n",
              "<style scoped>\n",
              "    .dataframe tbody tr th:only-of-type {\n",
              "        vertical-align: middle;\n",
              "    }\n",
              "\n",
              "    .dataframe tbody tr th {\n",
              "        vertical-align: top;\n",
              "    }\n",
              "\n",
              "    .dataframe thead th {\n",
              "        text-align: right;\n",
              "    }\n",
              "</style>\n",
              "<table border=\"1\" class=\"dataframe\">\n",
              "  <thead>\n",
              "    <tr style=\"text-align: right;\">\n",
              "      <th></th>\n",
              "      <th>Rank</th>\n",
              "      <th>Release Group</th>\n",
              "      <th>Worldwide</th>\n",
              "      <th>Domestic</th>\n",
              "      <th>Foreign</th>\n",
              "      <th>Filename</th>\n",
              "      <th>Year</th>\n",
              "      <th>Domestic %</th>\n",
              "      <th>Foreign %</th>\n",
              "    </tr>\n",
              "  </thead>\n",
              "  <tbody>\n",
              "    <tr>\n",
              "      <th>0</th>\n",
              "      <td>1</td>\n",
              "      <td>Avengers: Endgame</td>\n",
              "      <td>2797501328</td>\n",
              "      <td>858373000</td>\n",
              "      <td>1939128328</td>\n",
              "      <td>2019.csv</td>\n",
              "      <td>2019</td>\n",
              "      <td>0.306836</td>\n",
              "      <td>0.693164</td>\n",
              "    </tr>\n",
              "    <tr>\n",
              "      <th>1</th>\n",
              "      <td>2</td>\n",
              "      <td>Star Wars: Episode VII - The Force Awakens</td>\n",
              "      <td>2068223624</td>\n",
              "      <td>936662225</td>\n",
              "      <td>1131561399</td>\n",
              "      <td>2015.csv</td>\n",
              "      <td>2015</td>\n",
              "      <td>0.452882</td>\n",
              "      <td>0.547118</td>\n",
              "    </tr>\n",
              "    <tr>\n",
              "      <th>2</th>\n",
              "      <td>3</td>\n",
              "      <td>Avengers: Infinity War</td>\n",
              "      <td>2048359754</td>\n",
              "      <td>678815482</td>\n",
              "      <td>1369544272</td>\n",
              "      <td>2018.csv</td>\n",
              "      <td>2018</td>\n",
              "      <td>0.331395</td>\n",
              "      <td>0.668605</td>\n",
              "    </tr>\n",
              "    <tr>\n",
              "      <th>3</th>\n",
              "      <td>4</td>\n",
              "      <td>Jurassic World</td>\n",
              "      <td>1670400637</td>\n",
              "      <td>652270625</td>\n",
              "      <td>1018130012</td>\n",
              "      <td>2015.csv</td>\n",
              "      <td>2015</td>\n",
              "      <td>0.390488</td>\n",
              "      <td>0.609512</td>\n",
              "    </tr>\n",
              "    <tr>\n",
              "      <th>4</th>\n",
              "      <td>5</td>\n",
              "      <td>The Lion King</td>\n",
              "      <td>1656943394</td>\n",
              "      <td>543638043</td>\n",
              "      <td>1113305351</td>\n",
              "      <td>2019.csv</td>\n",
              "      <td>2019</td>\n",
              "      <td>0.328097</td>\n",
              "      <td>0.671903</td>\n",
              "    </tr>\n",
              "  </tbody>\n",
              "</table>\n",
              "</div>"
            ],
            "text/plain": [
              "   Rank                               Release Group  ...  Domestic %  Foreign %\n",
              "0     1                           Avengers: Endgame  ...    0.306836   0.693164\n",
              "1     2  Star Wars: Episode VII - The Force Awakens  ...    0.452882   0.547118\n",
              "2     3                      Avengers: Infinity War  ...    0.331395   0.668605\n",
              "3     4                              Jurassic World  ...    0.390488   0.609512\n",
              "4     5                               The Lion King  ...    0.328097   0.671903\n",
              "\n",
              "[5 rows x 9 columns]"
            ]
          },
          "metadata": {
            "tags": []
          },
          "execution_count": 92
        }
      ]
    },
    {
      "cell_type": "code",
      "metadata": {
        "colab": {
          "base_uri": "https://localhost:8080/"
        },
        "id": "jeWIijgrpxqH",
        "outputId": "c2b66584-908b-4a05-8f7b-29c386af83a2"
      },
      "source": [
        "df.dtypes"
      ],
      "execution_count": null,
      "outputs": [
        {
          "output_type": "execute_result",
          "data": {
            "text/plain": [
              "Rank               int64\n",
              "Release Group     object\n",
              "Worldwide          int64\n",
              "Domestic           int64\n",
              "Foreign            int64\n",
              "Filename          object\n",
              "Year               int64\n",
              "Domestic %       float64\n",
              "Foreign %        float64\n",
              "dtype: object"
            ]
          },
          "metadata": {
            "tags": []
          },
          "execution_count": 93
        }
      ]
    },
    {
      "cell_type": "code",
      "metadata": {
        "id": "O6rfJGX4p4hg"
      },
      "source": [
        "df.to_csv('movies_dataset_cleaned.csv',index=False)"
      ],
      "execution_count": null,
      "outputs": []
    },
    {
      "cell_type": "code",
      "metadata": {
        "id": "78umiOEKqCPI"
      },
      "source": [
        ""
      ],
      "execution_count": null,
      "outputs": []
    }
  ]
}